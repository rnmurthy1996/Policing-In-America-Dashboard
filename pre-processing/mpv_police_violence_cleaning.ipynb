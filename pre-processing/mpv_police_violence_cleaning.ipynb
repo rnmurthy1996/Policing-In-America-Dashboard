{
  "nbformat": 4,
  "nbformat_minor": 0,
  "metadata": {
    "colab": {
      "name": "pre processing of mpv.ipynb",
      "provenance": [],
      "collapsed_sections": []
    },
    "kernelspec": {
      "name": "python3",
      "display_name": "Python 3"
    }
  },
  "cells": [
    {
      "cell_type": "code",
      "metadata": {
        "id": "ymfuSljIMWdO"
      },
      "source": [
        "import numpy as np\n",
        "import pandas as pd\n",
        "from google.colab import drive"
      ],
      "execution_count": null,
      "outputs": []
    },
    {
      "cell_type": "code",
      "metadata": {
        "id": "bG0H3MGaNA8M",
        "colab": {
          "base_uri": "https://localhost:8080/"
        },
        "outputId": "0078a635-940f-4c47-d3ef-1074ed54d59f"
      },
      "source": [
        "prefix = '/content/drive'\n",
        "from google.colab import drive\n",
        "drive.mount(prefix, force_remount=True)"
      ],
      "execution_count": null,
      "outputs": [
        {
          "output_type": "stream",
          "text": [
            "Mounted at /content/drive\n"
          ],
          "name": "stdout"
        }
      ]
    },
    {
      "cell_type": "code",
      "metadata": {
        "id": "lSpkgOZHPkuE"
      },
      "source": [
        "# Set file path\n",
        "file_path = '/content/drive/MyDrive/CIS 550/Project/police_killings_MPV.csv'"
      ],
      "execution_count": null,
      "outputs": []
    },
    {
      "cell_type": "code",
      "metadata": {
        "id": "vFyiS_Vocek_"
      },
      "source": [
        "# Load data into data\n",
        "police_killings_MPV = pd.read_csv(file_path)"
      ],
      "execution_count": null,
      "outputs": []
    },
    {
      "cell_type": "code",
      "metadata": {
        "colab": {
          "base_uri": "https://localhost:8080/",
          "height": 340
        },
        "id": "LdwZFyVKcbGx",
        "outputId": "9770bfcd-7f0d-413b-e2b5-238cfcdb8e9b"
      },
      "source": [
        "# Create a year column which will be derived from the date entry\n",
        "police_killings_MPV.insert(1, \"Year\", police_killings_MPV[\"Date of Incident (month/day/year)\"])\n",
        "police_killings_MPV.head()"
      ],
      "execution_count": null,
      "outputs": [
        {
          "output_type": "error",
          "ename": "ValueError",
          "evalue": "ignored",
          "traceback": [
            "\u001b[0;31m---------------------------------------------------------------------------\u001b[0m",
            "\u001b[0;31mValueError\u001b[0m                                Traceback (most recent call last)",
            "\u001b[0;32m<ipython-input-6-babb1ba99c72>\u001b[0m in \u001b[0;36m<module>\u001b[0;34m()\u001b[0m\n\u001b[1;32m      1\u001b[0m \u001b[0;31m# Create a year column which will be derived from the date entry\u001b[0m\u001b[0;34m\u001b[0m\u001b[0;34m\u001b[0m\u001b[0;34m\u001b[0m\u001b[0m\n\u001b[0;32m----> 2\u001b[0;31m \u001b[0mpolice_killings_MPV\u001b[0m\u001b[0;34m.\u001b[0m\u001b[0minsert\u001b[0m\u001b[0;34m(\u001b[0m\u001b[0;36m1\u001b[0m\u001b[0;34m,\u001b[0m \u001b[0;34m\"Year\"\u001b[0m\u001b[0;34m,\u001b[0m \u001b[0mpolice_killings_MPV\u001b[0m\u001b[0;34m[\u001b[0m\u001b[0;34m\"Date of Incident (month/day/year)\"\u001b[0m\u001b[0;34m]\u001b[0m\u001b[0;34m)\u001b[0m\u001b[0;34m\u001b[0m\u001b[0;34m\u001b[0m\u001b[0m\n\u001b[0m\u001b[1;32m      3\u001b[0m \u001b[0mpolice_killings_MPV\u001b[0m\u001b[0;34m.\u001b[0m\u001b[0mhead\u001b[0m\u001b[0;34m(\u001b[0m\u001b[0;34m)\u001b[0m\u001b[0;34m\u001b[0m\u001b[0;34m\u001b[0m\u001b[0m\n",
            "\u001b[0;32m/usr/local/lib/python3.7/dist-packages/pandas/core/frame.py\u001b[0m in \u001b[0;36minsert\u001b[0;34m(self, loc, column, value, allow_duplicates)\u001b[0m\n\u001b[1;32m   3626\u001b[0m         \u001b[0mself\u001b[0m\u001b[0;34m.\u001b[0m\u001b[0m_ensure_valid_index\u001b[0m\u001b[0;34m(\u001b[0m\u001b[0mvalue\u001b[0m\u001b[0;34m)\u001b[0m\u001b[0;34m\u001b[0m\u001b[0;34m\u001b[0m\u001b[0m\n\u001b[1;32m   3627\u001b[0m         \u001b[0mvalue\u001b[0m \u001b[0;34m=\u001b[0m \u001b[0mself\u001b[0m\u001b[0;34m.\u001b[0m\u001b[0m_sanitize_column\u001b[0m\u001b[0;34m(\u001b[0m\u001b[0mcolumn\u001b[0m\u001b[0;34m,\u001b[0m \u001b[0mvalue\u001b[0m\u001b[0;34m,\u001b[0m \u001b[0mbroadcast\u001b[0m\u001b[0;34m=\u001b[0m\u001b[0;32mFalse\u001b[0m\u001b[0;34m)\u001b[0m\u001b[0;34m\u001b[0m\u001b[0;34m\u001b[0m\u001b[0m\n\u001b[0;32m-> 3628\u001b[0;31m         \u001b[0mself\u001b[0m\u001b[0;34m.\u001b[0m\u001b[0m_mgr\u001b[0m\u001b[0;34m.\u001b[0m\u001b[0minsert\u001b[0m\u001b[0;34m(\u001b[0m\u001b[0mloc\u001b[0m\u001b[0;34m,\u001b[0m \u001b[0mcolumn\u001b[0m\u001b[0;34m,\u001b[0m \u001b[0mvalue\u001b[0m\u001b[0;34m,\u001b[0m \u001b[0mallow_duplicates\u001b[0m\u001b[0;34m=\u001b[0m\u001b[0mallow_duplicates\u001b[0m\u001b[0;34m)\u001b[0m\u001b[0;34m\u001b[0m\u001b[0;34m\u001b[0m\u001b[0m\n\u001b[0m\u001b[1;32m   3629\u001b[0m \u001b[0;34m\u001b[0m\u001b[0m\n\u001b[1;32m   3630\u001b[0m     \u001b[0;32mdef\u001b[0m \u001b[0massign\u001b[0m\u001b[0;34m(\u001b[0m\u001b[0mself\u001b[0m\u001b[0;34m,\u001b[0m \u001b[0;34m**\u001b[0m\u001b[0mkwargs\u001b[0m\u001b[0;34m)\u001b[0m \u001b[0;34m->\u001b[0m \u001b[0;34m\"DataFrame\"\u001b[0m\u001b[0;34m:\u001b[0m\u001b[0;34m\u001b[0m\u001b[0;34m\u001b[0m\u001b[0m\n",
            "\u001b[0;32m/usr/local/lib/python3.7/dist-packages/pandas/core/internals/managers.py\u001b[0m in \u001b[0;36minsert\u001b[0;34m(self, loc, item, value, allow_duplicates)\u001b[0m\n\u001b[1;32m   1184\u001b[0m         \u001b[0;32mif\u001b[0m \u001b[0;32mnot\u001b[0m \u001b[0mallow_duplicates\u001b[0m \u001b[0;32mand\u001b[0m \u001b[0mitem\u001b[0m \u001b[0;32min\u001b[0m \u001b[0mself\u001b[0m\u001b[0;34m.\u001b[0m\u001b[0mitems\u001b[0m\u001b[0;34m:\u001b[0m\u001b[0;34m\u001b[0m\u001b[0;34m\u001b[0m\u001b[0m\n\u001b[1;32m   1185\u001b[0m             \u001b[0;31m# Should this be a different kind of error??\u001b[0m\u001b[0;34m\u001b[0m\u001b[0;34m\u001b[0m\u001b[0;34m\u001b[0m\u001b[0m\n\u001b[0;32m-> 1186\u001b[0;31m             \u001b[0;32mraise\u001b[0m \u001b[0mValueError\u001b[0m\u001b[0;34m(\u001b[0m\u001b[0;34mf\"cannot insert {item}, already exists\"\u001b[0m\u001b[0;34m)\u001b[0m\u001b[0;34m\u001b[0m\u001b[0;34m\u001b[0m\u001b[0m\n\u001b[0m\u001b[1;32m   1187\u001b[0m \u001b[0;34m\u001b[0m\u001b[0m\n\u001b[1;32m   1188\u001b[0m         \u001b[0;32mif\u001b[0m \u001b[0;32mnot\u001b[0m \u001b[0misinstance\u001b[0m\u001b[0;34m(\u001b[0m\u001b[0mloc\u001b[0m\u001b[0;34m,\u001b[0m \u001b[0mint\u001b[0m\u001b[0;34m)\u001b[0m\u001b[0;34m:\u001b[0m\u001b[0;34m\u001b[0m\u001b[0;34m\u001b[0m\u001b[0m\n",
            "\u001b[0;31mValueError\u001b[0m: cannot insert Year, already exists"
          ]
        }
      ]
    },
    {
      "cell_type": "code",
      "metadata": {
        "colab": {
          "base_uri": "https://localhost:8080/",
          "height": 717
        },
        "id": "Of5Bo07Ec6ke",
        "outputId": "403882b2-2c15-4daf-e69a-8bb8ce01b4af"
      },
      "source": [
        "# Update the new year column to just contain the 4-digit year of the date\n",
        "police_killings_MPV = pd.read_csv(file_path)\n",
        "if not (\"Year\" in police_killings_MPV):\n",
        "  police_killings_MPV.insert(0, \"Year\", police_killings_MPV[\"Date of Incident (month/day/year)\"])\n",
        "  police_killings_MPV.head()\n",
        "  for i in range(police_killings_MPV[\"Year\"].size):\n",
        "    date = police_killings_MPV[\"Year\"][i]\n",
        "    police_killings_MPV[\"Year\"][i] = int(date[date.index(\"/\", -5)+1:])\n",
        "\n",
        "police_killings_MPV.head()"
      ],
      "execution_count": null,
      "outputs": [
        {
          "output_type": "stream",
          "text": [
            "/usr/local/lib/python3.7/dist-packages/ipykernel_launcher.py:8: SettingWithCopyWarning: \n",
            "A value is trying to be set on a copy of a slice from a DataFrame\n",
            "\n",
            "See the caveats in the documentation: https://pandas.pydata.org/pandas-docs/stable/user_guide/indexing.html#returning-a-view-versus-a-copy\n",
            "  \n"
          ],
          "name": "stderr"
        },
        {
          "output_type": "execute_result",
          "data": {
            "text/html": [
              "<div>\n",
              "<style scoped>\n",
              "    .dataframe tbody tr th:only-of-type {\n",
              "        vertical-align: middle;\n",
              "    }\n",
              "\n",
              "    .dataframe tbody tr th {\n",
              "        vertical-align: top;\n",
              "    }\n",
              "\n",
              "    .dataframe thead th {\n",
              "        text-align: right;\n",
              "    }\n",
              "</style>\n",
              "<table border=\"1\" class=\"dataframe\">\n",
              "  <thead>\n",
              "    <tr style=\"text-align: right;\">\n",
              "      <th></th>\n",
              "      <th>Year</th>\n",
              "      <th>Victim's name</th>\n",
              "      <th>Victim's age</th>\n",
              "      <th>Victim's gender</th>\n",
              "      <th>Victim's race</th>\n",
              "      <th>URL of image of victim</th>\n",
              "      <th>Date of Incident (month/day/year)</th>\n",
              "      <th>Street Address of Incident</th>\n",
              "      <th>City</th>\n",
              "      <th>State</th>\n",
              "      <th>Zipcode</th>\n",
              "      <th>County</th>\n",
              "      <th>Agency responsible for death</th>\n",
              "      <th>ORI Agency Identifier (if available)</th>\n",
              "      <th>Cause of death</th>\n",
              "      <th>A brief description of the circumstances surrounding the death</th>\n",
              "      <th>Official disposition of death (justified or other)</th>\n",
              "      <th>Criminal Charges?</th>\n",
              "      <th>Link to news article or photo of official document</th>\n",
              "      <th>Symptoms of mental illness?</th>\n",
              "      <th>Unarmed/Did Not Have an Actual Weapon</th>\n",
              "      <th>Alleged Weapon (Source: WaPo and Review of Cases Not Included in WaPo Database)</th>\n",
              "      <th>Alleged Threat Level (Source: WaPo)</th>\n",
              "      <th>Fleeing (Source: WaPo)</th>\n",
              "      <th>Body Camera (Source: WaPo)</th>\n",
              "      <th>WaPo ID (If included in WaPo database)</th>\n",
              "      <th>Off-Duty Killing?</th>\n",
              "      <th>Geography (via Trulia methodology based on zipcode population density: http://jedkolko.com/wp-content/uploads/2015/05/full-ZCTA-urban-suburban-rural-classification.xlsx )</th>\n",
              "      <th>MPV ID</th>\n",
              "      <th>Fatal Encounters ID</th>\n",
              "    </tr>\n",
              "  </thead>\n",
              "  <tbody>\n",
              "    <tr>\n",
              "      <th>0</th>\n",
              "      <td>2020</td>\n",
              "      <td>Name withheld by police</td>\n",
              "      <td>Unknown</td>\n",
              "      <td>Male</td>\n",
              "      <td>Unknown race</td>\n",
              "      <td>NaN</td>\n",
              "      <td>6/9/2020</td>\n",
              "      <td>337 Garrison Place</td>\n",
              "      <td>Virginia Beach</td>\n",
              "      <td>VA</td>\n",
              "      <td>23452.0</td>\n",
              "      <td>Virginia Beach City</td>\n",
              "      <td>Virginia Beach Police Department</td>\n",
              "      <td>VA1280000</td>\n",
              "      <td>Gunshot</td>\n",
              "      <td>Police were called at 4:26 a.m. for a domestic...</td>\n",
              "      <td>Pending investigation</td>\n",
              "      <td>No known charges</td>\n",
              "      <td>https://www.wtkr.com/news/domestic-incident-le...</td>\n",
              "      <td>No</td>\n",
              "      <td>Allegedly Armed</td>\n",
              "      <td>knife</td>\n",
              "      <td>attack</td>\n",
              "      <td>Not fleeing</td>\n",
              "      <td>NaN</td>\n",
              "      <td>NaN</td>\n",
              "      <td>NaN</td>\n",
              "      <td>NaN</td>\n",
              "      <td>8448</td>\n",
              "      <td>28737.0</td>\n",
              "    </tr>\n",
              "    <tr>\n",
              "      <th>1</th>\n",
              "      <td>2020</td>\n",
              "      <td>Name withheld by police</td>\n",
              "      <td>Unknown</td>\n",
              "      <td>Male</td>\n",
              "      <td>Unknown race</td>\n",
              "      <td>NaN</td>\n",
              "      <td>5/9/2020</td>\n",
              "      <td>4900 South Lavergne Avenue</td>\n",
              "      <td>Chicago</td>\n",
              "      <td>IL</td>\n",
              "      <td>60638.0</td>\n",
              "      <td>Cook</td>\n",
              "      <td>Chicago Police Department</td>\n",
              "      <td>ILCPD0000</td>\n",
              "      <td>Gunshot</td>\n",
              "      <td>A man allegedly stabbed someone and then alleg...</td>\n",
              "      <td>Pending investigation</td>\n",
              "      <td>No known charges</td>\n",
              "      <td>https://www.chicagotribune.com/news/breaking/c...</td>\n",
              "      <td>No</td>\n",
              "      <td>Allegedly Armed</td>\n",
              "      <td>knife</td>\n",
              "      <td>attack</td>\n",
              "      <td>Not fleeing</td>\n",
              "      <td>NaN</td>\n",
              "      <td>NaN</td>\n",
              "      <td>NaN</td>\n",
              "      <td>NaN</td>\n",
              "      <td>8446</td>\n",
              "      <td>28734.0</td>\n",
              "    </tr>\n",
              "    <tr>\n",
              "      <th>2</th>\n",
              "      <td>2020</td>\n",
              "      <td>Name withheld by police</td>\n",
              "      <td>61</td>\n",
              "      <td>Male</td>\n",
              "      <td>Unknown race</td>\n",
              "      <td>NaN</td>\n",
              "      <td>5/9/2020</td>\n",
              "      <td>2118 Fredericksburg Rd</td>\n",
              "      <td>San Antonio</td>\n",
              "      <td>TX</td>\n",
              "      <td>78201.0</td>\n",
              "      <td>Bexar</td>\n",
              "      <td>San Antonio Police Department</td>\n",
              "      <td>TXSPD0000</td>\n",
              "      <td>Gunshot</td>\n",
              "      <td>A man was detained by an off-duty Floresville ...</td>\n",
              "      <td>Pending investigation</td>\n",
              "      <td>No known charges</td>\n",
              "      <td>https://news4sanantonio.com/news/local/police-...</td>\n",
              "      <td>No</td>\n",
              "      <td>Allegedly Armed</td>\n",
              "      <td>knife</td>\n",
              "      <td>attack</td>\n",
              "      <td>Not fleeing</td>\n",
              "      <td>NaN</td>\n",
              "      <td>NaN</td>\n",
              "      <td>off-duty</td>\n",
              "      <td>NaN</td>\n",
              "      <td>8447</td>\n",
              "      <td>28735.0</td>\n",
              "    </tr>\n",
              "    <tr>\n",
              "      <th>3</th>\n",
              "      <td>2020</td>\n",
              "      <td>Name withheld by police</td>\n",
              "      <td>22</td>\n",
              "      <td>Male</td>\n",
              "      <td>Unknown race</td>\n",
              "      <td>NaN</td>\n",
              "      <td>5/9/2020</td>\n",
              "      <td>2500 Logistics Drive</td>\n",
              "      <td>Battle Creek</td>\n",
              "      <td>MI</td>\n",
              "      <td>49037.0</td>\n",
              "      <td>Calhoun</td>\n",
              "      <td>Battle Creek Police Department, Calhoun County...</td>\n",
              "      <td>MI1323700;MI1311300</td>\n",
              "      <td>Gunshot</td>\n",
              "      <td>Following a 15-minute pursuit after two Battle...</td>\n",
              "      <td>Pending investigation</td>\n",
              "      <td>No known charges</td>\n",
              "      <td>https://www.battlecreekenquirer.com/story/news...</td>\n",
              "      <td>Drug or alcohol use</td>\n",
              "      <td>Vehicle</td>\n",
              "      <td>vehicle</td>\n",
              "      <td>attack</td>\n",
              "      <td>Car</td>\n",
              "      <td>NaN</td>\n",
              "      <td>NaN</td>\n",
              "      <td>NaN</td>\n",
              "      <td>NaN</td>\n",
              "      <td>8449</td>\n",
              "      <td>28736.0</td>\n",
              "    </tr>\n",
              "    <tr>\n",
              "      <th>4</th>\n",
              "      <td>2020</td>\n",
              "      <td>Steven D. Smith</td>\n",
              "      <td>33</td>\n",
              "      <td>Male</td>\n",
              "      <td>Unknown race</td>\n",
              "      <td>NaN</td>\n",
              "      <td>4/9/2020</td>\n",
              "      <td>200 N. State Street</td>\n",
              "      <td>Syracuse</td>\n",
              "      <td>NY</td>\n",
              "      <td>13203.0</td>\n",
              "      <td>Onondaga</td>\n",
              "      <td>Syracuse Police Department</td>\n",
              "      <td>NY0330100</td>\n",
              "      <td>Gunshot</td>\n",
              "      <td>Officers responded to the Sunoco Gas Station f...</td>\n",
              "      <td>Pending investigation</td>\n",
              "      <td>No known charges</td>\n",
              "      <td>https://cnycentral.com/news/local/large-police...</td>\n",
              "      <td>No</td>\n",
              "      <td>Allegedly Armed</td>\n",
              "      <td>gun</td>\n",
              "      <td>NaN</td>\n",
              "      <td>NaN</td>\n",
              "      <td>NaN</td>\n",
              "      <td>NaN</td>\n",
              "      <td>NaN</td>\n",
              "      <td>NaN</td>\n",
              "      <td>8444</td>\n",
              "      <td>28726.0</td>\n",
              "    </tr>\n",
              "  </tbody>\n",
              "</table>\n",
              "</div>"
            ],
            "text/plain": [
              "   Year            Victim's name  ... MPV ID Fatal Encounters ID\n",
              "0  2020  Name withheld by police  ...   8448             28737.0\n",
              "1  2020  Name withheld by police  ...   8446             28734.0\n",
              "2  2020  Name withheld by police  ...   8447             28735.0\n",
              "3  2020  Name withheld by police  ...   8449             28736.0\n",
              "4  2020          Steven D. Smith  ...   8444             28726.0\n",
              "\n",
              "[5 rows x 30 columns]"
            ]
          },
          "metadata": {
            "tags": []
          },
          "execution_count": 7
        }
      ]
    },
    {
      "cell_type": "code",
      "metadata": {
        "colab": {
          "base_uri": "https://localhost:8080/"
        },
        "id": "rKE3h9VRk_ZJ",
        "outputId": "7eb7accb-84ea-476f-cc8d-872168e16904"
      },
      "source": [
        "# Drop rows where City is null, since City is part of primary key\n",
        "police_killings_MPV = police_killings_MPV[police_killings_MPV[\"City\"].notnull()]\n",
        "print(\"Number of null cities: \", police_killings_MPV[\"City\"].isnull().sum())\n",
        "\n",
        "# Drop rows where County is null, since County will be used to join with other datasets\n",
        "police_killings_MPV = police_killings_MPV[police_killings_MPV[\"County\"].notnull()]\n",
        "print(\"Number of null counties: \", police_killings_MPV[\"County\"].isnull().sum())\n",
        "\n",
        "# Drop rows where Victim name is \"Name withhel dby police\", since this is being used in primary key\n",
        "police_killings_MPV = police_killings_MPV[police_killings_MPV[\"Victim's name\"] != \"Name withheld by police\"]\n",
        "\n",
        "# NOTE: From EDA, this is only dropping 20 rows, so very minimal data loss\n"
      ],
      "execution_count": null,
      "outputs": [
        {
          "output_type": "stream",
          "text": [
            "Number of null cities:  0\n",
            "Number of null counties:  0\n"
          ],
          "name": "stdout"
        }
      ]
    },
    {
      "cell_type": "code",
      "metadata": {
        "id": "OwDbGO6GoEpz"
      },
      "source": [
        "# Add a \"Killed by gun wound column\"\n",
        "\n",
        "if not (\"is_gun_death\" in police_killings_MPV):\n",
        "  police_killings_MPV.insert(1, \"is_gun_death\", False)\n",
        "police_killings_MPV[\"is_gun_death\"] = police_killings_MPV[\"Cause of death\"].str.contains(\"Gunshot\")\n",
        "\n",
        "# police_killings_MPV[\"is_gun_death\"] = police_killings_MPV[\"is_gun_death\"].astype(int)\n",
        "police_killings_MPV = police_killings_MPV.replace({'is_gun_death': {True: 'y', False: 'n'}})\n",
        "\n",
        "# print(\"Number of gunshot deaths: \", police_killings_MPV[\"is_gun_death\"].sum() )\n"
      ],
      "execution_count": null,
      "outputs": []
    },
    {
      "cell_type": "code",
      "metadata": {
        "colab": {
          "base_uri": "https://localhost:8080/"
        },
        "id": "nzZHkNdhjawv",
        "outputId": "19ba2431-f85c-4b17-f4c5-8a88434eb2a1"
      },
      "source": [
        "# Lits races\n",
        "r = police_killings_MPV[\"Victim's race\"].unique()\n",
        "r"
      ],
      "execution_count": null,
      "outputs": [
        {
          "output_type": "execute_result",
          "data": {
            "text/plain": [
              "array(['Unknown race', 'White', 'Black', 'Hispanic', 'Native American',\n",
              "       'Asian', 'Pacific Islander'], dtype=object)"
            ]
          },
          "metadata": {
            "tags": []
          },
          "execution_count": 14
        }
      ]
    },
    {
      "cell_type": "markdown",
      "metadata": {
        "id": "R8NVf1uoTxSz"
      },
      "source": [
        "First, we create a `Series` that maps each country name to an integer. \n"
      ]
    },
    {
      "cell_type": "code",
      "metadata": {
        "id": "pkg6Kst9T4Hd",
        "colab": {
          "base_uri": "https://localhost:8080/"
        },
        "outputId": "722d1ca4-beaa-44ba-fc22-526a3617e402"
      },
      "source": [
        "# TODO: Do we want to replace city/county names with an integer index to improve performance?\n",
        "\n",
        "all_cities = police_killings_MPV[\"City\"].unique()\n",
        "city_codes = pd.Series(index=all_cities, data=np.arange(len(all_cities)))\n",
        "city_codes\n",
        "\n",
        "# police_killings_MPV[\"City\"] = country_codes.loc[police_killings_MPV[\"City\"]].values\n",
        "# police_killings_MPV[\"City\"] = police_killings_MPV[\"City\"].astype(np.int64)"
      ],
      "execution_count": null,
      "outputs": [
        {
          "output_type": "execute_result",
          "data": {
            "text/plain": [
              "Syracuse             0\n",
              "Lucerne Valley       1\n",
              "Lacey                2\n",
              "Bettendorf           3\n",
              "Washington           4\n",
              "                  ... \n",
              "Belding           3018\n",
              "Wenonah           3019\n",
              "Edwardsville      3020\n",
              "Westwood Lakes    3021\n",
              "Gordon            3022\n",
              "Length: 3023, dtype: int64"
            ]
          },
          "metadata": {
            "tags": []
          },
          "execution_count": 15
        }
      ]
    },
    {
      "cell_type": "code",
      "metadata": {
        "id": "hHUnR5_1ee9D",
        "colab": {
          "base_uri": "https://localhost:8080/"
        },
        "outputId": "897bcbed-5423-418c-efc7-b286aedf49b0"
      },
      "source": [
        "# Check whether the columns \"Year\", \"City\", \"Victim's name\" can be used as Primary Keys\n",
        "\n",
        "# Step 1: Group dataframe by candidate columns \n",
        "grouped = police_killings_MPV.groupby([\"Year\", \"City\", \"Victim's name\"]) \n",
        "# Step 2: Count rows in each group\n",
        "counts = grouped.size()\n",
        "\n",
        "# Note, since we are using Victim's name in the primary key, we should remove all cases where name is \"Name withheld by police\"\n",
        "print(counts[counts > 1])\n",
        "\n",
        "# Note that since no counts are greater than 1, we are able to use these columns as the primary key"
      ],
      "execution_count": null,
      "outputs": [
        {
          "output_type": "stream",
          "text": [
            "Series([], dtype: int64)\n"
          ],
          "name": "stdout"
        }
      ]
    },
    {
      "cell_type": "code",
      "metadata": {
        "colab": {
          "base_uri": "https://localhost:8080/",
          "height": 204
        },
        "id": "ODT-eHGgLeHK",
        "outputId": "1cedeb21-8c47-45fb-e3bf-be25164ed086"
      },
      "source": [
        "police_killings_MPV.head()\n",
        "\n",
        "# Drop unwanted columns\n",
        "police_killings_MPV_reduced_columns = police_killings_MPV.drop([\"URL of image of victim\", \"Street Address of Incident\", \"Zipcode\", \"Agency responsible for death\", \"ORI Agency Identifier (if available)\", \"A brief description of the circumstances surrounding the death\", \"Official disposition of death (justified or other)\", \"Criminal Charges?\", \"Symptoms of mental illness?\", \"Unarmed/Did Not Have an Actual Weapon\", \"Alleged Weapon (Source: WaPo and Review of Cases Not Included in WaPo Database)\", \"Alleged Threat Level (Source: WaPo)\", \"Fleeing (Source: WaPo)\", \"Body Camera (Source: WaPo)\", \"WaPo ID (If included in WaPo database)\", \"Off-Duty Killing?\", \"Geography (via Trulia methodology based on zipcode population density: http://jedkolko.com/wp-content/uploads/2015/05/full-ZCTA-urban-suburban-rural-classification.xlsx )\", \"MPV ID\", \"Fatal Encounters ID\"], axis=1)\n",
        "\n",
        "# Rename columns for consistency\n",
        "police_killings_MPV_reduced_columns_renamed = police_killings_MPV_reduced_columns.rename(columns={\"Year\": \"year\", \"Victim's age\": \"age\", \"Victim's gender\": \"sex\", \"Victim's name\": \"name\", \"Victim's race\": \"race\", \"Date of Incident (month/day/year)\": \"date\", \"City\": \"city\", \"State\": \"state\", \"County\": \"county\", \"Cause of death\": \"cause_of_death\", \"Link to news article or photo of official document\": \"article\"})\n",
        "\n",
        "police_killings_MPV_reduced_columns_renamed.head()"
      ],
      "execution_count": null,
      "outputs": [
        {
          "output_type": "execute_result",
          "data": {
            "text/html": [
              "<div>\n",
              "<style scoped>\n",
              "    .dataframe tbody tr th:only-of-type {\n",
              "        vertical-align: middle;\n",
              "    }\n",
              "\n",
              "    .dataframe tbody tr th {\n",
              "        vertical-align: top;\n",
              "    }\n",
              "\n",
              "    .dataframe thead th {\n",
              "        text-align: right;\n",
              "    }\n",
              "</style>\n",
              "<table border=\"1\" class=\"dataframe\">\n",
              "  <thead>\n",
              "    <tr style=\"text-align: right;\">\n",
              "      <th></th>\n",
              "      <th>year</th>\n",
              "      <th>is_gun_death</th>\n",
              "      <th>name</th>\n",
              "      <th>age</th>\n",
              "      <th>sex</th>\n",
              "      <th>race</th>\n",
              "      <th>date</th>\n",
              "      <th>city</th>\n",
              "      <th>state</th>\n",
              "      <th>county</th>\n",
              "      <th>cause_of_death</th>\n",
              "      <th>article</th>\n",
              "    </tr>\n",
              "  </thead>\n",
              "  <tbody>\n",
              "    <tr>\n",
              "      <th>4</th>\n",
              "      <td>2020</td>\n",
              "      <td>y</td>\n",
              "      <td>Steven D. Smith</td>\n",
              "      <td>33</td>\n",
              "      <td>Male</td>\n",
              "      <td>Unknown race</td>\n",
              "      <td>4/9/2020</td>\n",
              "      <td>Syracuse</td>\n",
              "      <td>NY</td>\n",
              "      <td>Onondaga</td>\n",
              "      <td>Gunshot</td>\n",
              "      <td>https://cnycentral.com/news/local/large-police...</td>\n",
              "    </tr>\n",
              "    <tr>\n",
              "      <th>5</th>\n",
              "      <td>2020</td>\n",
              "      <td>y</td>\n",
              "      <td>Joshua Beedie</td>\n",
              "      <td>38</td>\n",
              "      <td>Male</td>\n",
              "      <td>White</td>\n",
              "      <td>4/9/2020</td>\n",
              "      <td>Lucerne Valley</td>\n",
              "      <td>CA</td>\n",
              "      <td>San Bernardino</td>\n",
              "      <td>Gunshot</td>\n",
              "      <td>https://www.vvdailypress.com/story/news/2020/0...</td>\n",
              "    </tr>\n",
              "    <tr>\n",
              "      <th>6</th>\n",
              "      <td>2020</td>\n",
              "      <td>y</td>\n",
              "      <td>Michael Forest Reinoehl</td>\n",
              "      <td>48</td>\n",
              "      <td>Male</td>\n",
              "      <td>White</td>\n",
              "      <td>3/9/2020</td>\n",
              "      <td>Lacey</td>\n",
              "      <td>WA</td>\n",
              "      <td>Thurston</td>\n",
              "      <td>Gunshot</td>\n",
              "      <td>https://komonews.com/news/local/authorities-su...</td>\n",
              "    </tr>\n",
              "    <tr>\n",
              "      <th>7</th>\n",
              "      <td>2020</td>\n",
              "      <td>y</td>\n",
              "      <td>Timothy Clevenger</td>\n",
              "      <td>53</td>\n",
              "      <td>Male</td>\n",
              "      <td>White</td>\n",
              "      <td>3/9/2020</td>\n",
              "      <td>Bettendorf</td>\n",
              "      <td>IA</td>\n",
              "      <td>Scott</td>\n",
              "      <td>Gunshot</td>\n",
              "      <td>https://www.kwqc.com/2020/09/03/investigation-...</td>\n",
              "    </tr>\n",
              "    <tr>\n",
              "      <th>9</th>\n",
              "      <td>2020</td>\n",
              "      <td>y</td>\n",
              "      <td>Deon Kay</td>\n",
              "      <td>18</td>\n",
              "      <td>Male</td>\n",
              "      <td>Black</td>\n",
              "      <td>2/9/2020</td>\n",
              "      <td>Washington</td>\n",
              "      <td>DC</td>\n",
              "      <td>District of Columbia</td>\n",
              "      <td>Gunshot</td>\n",
              "      <td>https://www.wusa9.com/article/news/crime/offic...</td>\n",
              "    </tr>\n",
              "  </tbody>\n",
              "</table>\n",
              "</div>"
            ],
            "text/plain": [
              "   year  ...                                            article\n",
              "4  2020  ...  https://cnycentral.com/news/local/large-police...\n",
              "5  2020  ...  https://www.vvdailypress.com/story/news/2020/0...\n",
              "6  2020  ...  https://komonews.com/news/local/authorities-su...\n",
              "7  2020  ...  https://www.kwqc.com/2020/09/03/investigation-...\n",
              "9  2020  ...  https://www.wusa9.com/article/news/crime/offic...\n",
              "\n",
              "[5 rows x 12 columns]"
            ]
          },
          "metadata": {
            "tags": []
          },
          "execution_count": 17
        }
      ]
    },
    {
      "cell_type": "code",
      "metadata": {
        "colab": {
          "base_uri": "https://localhost:8080/"
        },
        "id": "oJCABNJmaFcE",
        "outputId": "4b022596-3450-4bc5-c046-a2c99cbf6f4b"
      },
      "source": [
        "# Set empty blocks to NULL for importing using MySQL Workbench\n",
        "police_killings_MPV_reduced_columns_renamed.isnull().any()\n",
        "\n",
        "police_killings_MPV_reduced_columns_renamed[\"article\"].map(lambda x: len(x)).max()\n",
        "\n",
        "# police_killings_MPV_reduced_columns.loc[police_killings_MPV_reduced_columns['Link to news article or photo of official document'].str.contains(\";\"), 'Link to news article or photo of official document'] = \"NULL\""
      ],
      "execution_count": null,
      "outputs": [
        {
          "output_type": "execute_result",
          "data": {
            "text/plain": [
              "312"
            ]
          },
          "metadata": {
            "tags": []
          },
          "execution_count": 18
        }
      ]
    },
    {
      "cell_type": "code",
      "metadata": {
        "colab": {
          "base_uri": "https://localhost:8080/"
        },
        "id": "6CcXUVOgfoBO",
        "outputId": "3090c770-0ad6-4077-d204-341d06910a57"
      },
      "source": [
        "grouped = police_killings_MPV_reduced_columns_renamed.groupby([\"year\", \"city\", \"name\"]) \n",
        "# Step 2: Count rows in each group\n",
        "counts = grouped.size()\n",
        "\n",
        "# Note, since we are using Victim's name in the primary key, we should remove all cases where name is \"Name withheld by police\"\n",
        "print(counts[counts > 1])"
      ],
      "execution_count": null,
      "outputs": [
        {
          "output_type": "stream",
          "text": [
            "Series([], dtype: int64)\n"
          ],
          "name": "stdout"
        }
      ]
    },
    {
      "cell_type": "code",
      "metadata": {
        "colab": {
          "base_uri": "https://localhost:8080/",
          "height": 204
        },
        "id": "e1LuHE4-VQ5Q",
        "outputId": "d364f7e9-150a-4a77-9770-f258baa6a192"
      },
      "source": [
        "police_killings_MPV_reduced_columns_renamed = police_killings_MPV_reduced_columns_renamed[['year', 'city', 'name', 'age', 'sex', 'race', 'cause_of_death', 'date', 'county', 'state', 'is_gun_death', 'article']]\n",
        "police_killings_MPV_reduced_columns_renamed.head()\n",
        "\n",
        "# Change Male and Female to M and F\n",
        "sex_map = {\n",
        "    'Male': 'M',\n",
        "    'Female': 'F'\n",
        "}\n",
        "\n",
        "police_killings_MPV_reduced_columns_renamed_1 = police_killings_MPV_reduced_columns_renamed.replace({\"sex\": sex_map})\n",
        "police_killings_MPV_reduced_columns_renamed_1.head()\n",
        "\n",
        "race_map = {\n",
        "    'Unknown race': 'Unknown'\n",
        "}\n",
        "\n",
        "police_killings_MPV_reduced_columns_renamed_2 = police_killings_MPV_reduced_columns_renamed_1.replace({\"race\": race_map})\n",
        "police_killings_MPV_reduced_columns_renamed_2.head()\n"
      ],
      "execution_count": null,
      "outputs": [
        {
          "output_type": "execute_result",
          "data": {
            "text/html": [
              "<div>\n",
              "<style scoped>\n",
              "    .dataframe tbody tr th:only-of-type {\n",
              "        vertical-align: middle;\n",
              "    }\n",
              "\n",
              "    .dataframe tbody tr th {\n",
              "        vertical-align: top;\n",
              "    }\n",
              "\n",
              "    .dataframe thead th {\n",
              "        text-align: right;\n",
              "    }\n",
              "</style>\n",
              "<table border=\"1\" class=\"dataframe\">\n",
              "  <thead>\n",
              "    <tr style=\"text-align: right;\">\n",
              "      <th></th>\n",
              "      <th>year</th>\n",
              "      <th>city</th>\n",
              "      <th>name</th>\n",
              "      <th>age</th>\n",
              "      <th>sex</th>\n",
              "      <th>race</th>\n",
              "      <th>cause_of_death</th>\n",
              "      <th>date</th>\n",
              "      <th>county</th>\n",
              "      <th>state</th>\n",
              "      <th>is_gun_death</th>\n",
              "      <th>article</th>\n",
              "    </tr>\n",
              "  </thead>\n",
              "  <tbody>\n",
              "    <tr>\n",
              "      <th>4</th>\n",
              "      <td>2020</td>\n",
              "      <td>Syracuse</td>\n",
              "      <td>Steven D. Smith</td>\n",
              "      <td>33</td>\n",
              "      <td>M</td>\n",
              "      <td>Unknown</td>\n",
              "      <td>Gunshot</td>\n",
              "      <td>4/9/2020</td>\n",
              "      <td>Onondaga</td>\n",
              "      <td>NY</td>\n",
              "      <td>y</td>\n",
              "      <td>https://cnycentral.com/news/local/large-police...</td>\n",
              "    </tr>\n",
              "    <tr>\n",
              "      <th>5</th>\n",
              "      <td>2020</td>\n",
              "      <td>Lucerne Valley</td>\n",
              "      <td>Joshua Beedie</td>\n",
              "      <td>38</td>\n",
              "      <td>M</td>\n",
              "      <td>White</td>\n",
              "      <td>Gunshot</td>\n",
              "      <td>4/9/2020</td>\n",
              "      <td>San Bernardino</td>\n",
              "      <td>CA</td>\n",
              "      <td>y</td>\n",
              "      <td>https://www.vvdailypress.com/story/news/2020/0...</td>\n",
              "    </tr>\n",
              "    <tr>\n",
              "      <th>6</th>\n",
              "      <td>2020</td>\n",
              "      <td>Lacey</td>\n",
              "      <td>Michael Forest Reinoehl</td>\n",
              "      <td>48</td>\n",
              "      <td>M</td>\n",
              "      <td>White</td>\n",
              "      <td>Gunshot</td>\n",
              "      <td>3/9/2020</td>\n",
              "      <td>Thurston</td>\n",
              "      <td>WA</td>\n",
              "      <td>y</td>\n",
              "      <td>https://komonews.com/news/local/authorities-su...</td>\n",
              "    </tr>\n",
              "    <tr>\n",
              "      <th>7</th>\n",
              "      <td>2020</td>\n",
              "      <td>Bettendorf</td>\n",
              "      <td>Timothy Clevenger</td>\n",
              "      <td>53</td>\n",
              "      <td>M</td>\n",
              "      <td>White</td>\n",
              "      <td>Gunshot</td>\n",
              "      <td>3/9/2020</td>\n",
              "      <td>Scott</td>\n",
              "      <td>IA</td>\n",
              "      <td>y</td>\n",
              "      <td>https://www.kwqc.com/2020/09/03/investigation-...</td>\n",
              "    </tr>\n",
              "    <tr>\n",
              "      <th>9</th>\n",
              "      <td>2020</td>\n",
              "      <td>Washington</td>\n",
              "      <td>Deon Kay</td>\n",
              "      <td>18</td>\n",
              "      <td>M</td>\n",
              "      <td>Black</td>\n",
              "      <td>Gunshot</td>\n",
              "      <td>2/9/2020</td>\n",
              "      <td>District of Columbia</td>\n",
              "      <td>DC</td>\n",
              "      <td>y</td>\n",
              "      <td>https://www.wusa9.com/article/news/crime/offic...</td>\n",
              "    </tr>\n",
              "  </tbody>\n",
              "</table>\n",
              "</div>"
            ],
            "text/plain": [
              "   year  ...                                            article\n",
              "4  2020  ...  https://cnycentral.com/news/local/large-police...\n",
              "5  2020  ...  https://www.vvdailypress.com/story/news/2020/0...\n",
              "6  2020  ...  https://komonews.com/news/local/authorities-su...\n",
              "7  2020  ...  https://www.kwqc.com/2020/09/03/investigation-...\n",
              "9  2020  ...  https://www.wusa9.com/article/news/crime/offic...\n",
              "\n",
              "[5 rows x 12 columns]"
            ]
          },
          "metadata": {
            "tags": []
          },
          "execution_count": 21
        }
      ]
    },
    {
      "cell_type": "code",
      "metadata": {
        "id": "-IxY6b2bgNU9"
      },
      "source": [
        "# police_killings_MPV_reduced_columns_renamed.to_csv(\"police_killings_MPV_processed.csv\", index=False, sep=\";\")\n",
        "police_killings_MPV_reduced_columns_renamed_2.to_csv(\"mpv.csv\", index=False, sep=\";\")"
      ],
      "execution_count": null,
      "outputs": []
    },
    {
      "cell_type": "code",
      "metadata": {
        "id": "jyC1g_Xsgfmm",
        "colab": {
          "base_uri": "https://localhost:8080/",
          "height": 17
        },
        "outputId": "1d939f19-da11-4d07-f2ff-6eef487fb371"
      },
      "source": [
        "from google.colab import files\n",
        "files.download('mpv.csv')"
      ],
      "execution_count": null,
      "outputs": [
        {
          "output_type": "display_data",
          "data": {
            "application/javascript": [
              "\n",
              "    async function download(id, filename, size) {\n",
              "      if (!google.colab.kernel.accessAllowed) {\n",
              "        return;\n",
              "      }\n",
              "      const div = document.createElement('div');\n",
              "      const label = document.createElement('label');\n",
              "      label.textContent = `Downloading \"${filename}\": `;\n",
              "      div.appendChild(label);\n",
              "      const progress = document.createElement('progress');\n",
              "      progress.max = size;\n",
              "      div.appendChild(progress);\n",
              "      document.body.appendChild(div);\n",
              "\n",
              "      const buffers = [];\n",
              "      let downloaded = 0;\n",
              "\n",
              "      const channel = await google.colab.kernel.comms.open(id);\n",
              "      // Send a message to notify the kernel that we're ready.\n",
              "      channel.send({})\n",
              "\n",
              "      for await (const message of channel.messages) {\n",
              "        // Send a message to notify the kernel that we're ready.\n",
              "        channel.send({})\n",
              "        if (message.buffers) {\n",
              "          for (const buffer of message.buffers) {\n",
              "            buffers.push(buffer);\n",
              "            downloaded += buffer.byteLength;\n",
              "            progress.value = downloaded;\n",
              "          }\n",
              "        }\n",
              "      }\n",
              "      const blob = new Blob(buffers, {type: 'application/binary'});\n",
              "      const a = document.createElement('a');\n",
              "      a.href = window.URL.createObjectURL(blob);\n",
              "      a.download = filename;\n",
              "      div.appendChild(a);\n",
              "      a.click();\n",
              "      div.remove();\n",
              "    }\n",
              "  "
            ],
            "text/plain": [
              "<IPython.core.display.Javascript object>"
            ]
          },
          "metadata": {
            "tags": []
          }
        },
        {
          "output_type": "display_data",
          "data": {
            "application/javascript": [
              "download(\"download_a1d0d81f-8565-4fee-ad64-b4694ebd99cb\", \"mpv.csv\", 1466440)"
            ],
            "text/plain": [
              "<IPython.core.display.Javascript object>"
            ]
          },
          "metadata": {
            "tags": []
          }
        }
      ]
    },
    {
      "cell_type": "markdown",
      "metadata": {
        "id": "uWaKgjPxO4zC"
      },
      "source": [
        "DEMOGRAPHIC PROCESSING"
      ]
    },
    {
      "cell_type": "code",
      "metadata": {
        "id": "XfhNIYSxO63r"
      },
      "source": [
        "# Set file path\n",
        "file_path = '/content/drive/MyDrive/CIS 550/Project/demographics.csv'\n",
        "data = pd.read_csv(file_path)\n"
      ],
      "execution_count": null,
      "outputs": []
    },
    {
      "cell_type": "code",
      "metadata": {
        "colab": {
          "base_uri": "https://localhost:8080/",
          "height": 204
        },
        "id": "7ky0OGGKPaY9",
        "outputId": "0a37c086-a7d7-458d-8119-f9da75892386"
      },
      "source": [
        "data_1 = data.rename(columns={\"ORIGIN\": \"origin\", \"NAME\": \"state\", \"SEX\": \"sex\", \"RACE\": \"race\", \"AGE\": \"age\", \"POPESTIMATE2010\": \"2010\", \"POPESTIMATE2011\": \"2011\", \"POPESTIMATE2012\": \"2012\", \"POPESTIMATE2013\": \"2013\", \"POPESTIMATE2014\": \"2014\", \"POPESTIMATE2015\": \"2015\", \"POPESTIMATE2016\": \"2016\", \"POPESTIMATE2017\": \"2017\", \"POPESTIMATE2018\": \"2018\", \"POPESTIMATE2019\": \"2019\"})\n",
        "data_1.head()"
      ],
      "execution_count": null,
      "outputs": [
        {
          "output_type": "execute_result",
          "data": {
            "text/html": [
              "<div>\n",
              "<style scoped>\n",
              "    .dataframe tbody tr th:only-of-type {\n",
              "        vertical-align: middle;\n",
              "    }\n",
              "\n",
              "    .dataframe tbody tr th {\n",
              "        vertical-align: top;\n",
              "    }\n",
              "\n",
              "    .dataframe thead th {\n",
              "        text-align: right;\n",
              "    }\n",
              "</style>\n",
              "<table border=\"1\" class=\"dataframe\">\n",
              "  <thead>\n",
              "    <tr style=\"text-align: right;\">\n",
              "      <th></th>\n",
              "      <th>SUMLEV</th>\n",
              "      <th>REGION</th>\n",
              "      <th>DIVISION</th>\n",
              "      <th>STATE</th>\n",
              "      <th>state</th>\n",
              "      <th>sex</th>\n",
              "      <th>origin</th>\n",
              "      <th>race</th>\n",
              "      <th>age</th>\n",
              "      <th>CENSUS2010POP</th>\n",
              "      <th>ESTIMATESBASE2010</th>\n",
              "      <th>2010</th>\n",
              "      <th>2011</th>\n",
              "      <th>2012</th>\n",
              "      <th>2013</th>\n",
              "      <th>2014</th>\n",
              "      <th>2015</th>\n",
              "      <th>2016</th>\n",
              "      <th>2017</th>\n",
              "      <th>2018</th>\n",
              "      <th>2019</th>\n",
              "    </tr>\n",
              "  </thead>\n",
              "  <tbody>\n",
              "    <tr>\n",
              "      <th>0</th>\n",
              "      <td>40</td>\n",
              "      <td>3</td>\n",
              "      <td>6</td>\n",
              "      <td>1</td>\n",
              "      <td>Alabama</td>\n",
              "      <td>0</td>\n",
              "      <td>0</td>\n",
              "      <td>1</td>\n",
              "      <td>0</td>\n",
              "      <td>37991</td>\n",
              "      <td>37991</td>\n",
              "      <td>37818</td>\n",
              "      <td>38678</td>\n",
              "      <td>37824</td>\n",
              "      <td>36812</td>\n",
              "      <td>37575</td>\n",
              "      <td>37698</td>\n",
              "      <td>37629</td>\n",
              "      <td>37526</td>\n",
              "      <td>36370</td>\n",
              "      <td>35594</td>\n",
              "    </tr>\n",
              "    <tr>\n",
              "      <th>1</th>\n",
              "      <td>40</td>\n",
              "      <td>3</td>\n",
              "      <td>6</td>\n",
              "      <td>1</td>\n",
              "      <td>Alabama</td>\n",
              "      <td>0</td>\n",
              "      <td>0</td>\n",
              "      <td>1</td>\n",
              "      <td>1</td>\n",
              "      <td>38150</td>\n",
              "      <td>38150</td>\n",
              "      <td>38036</td>\n",
              "      <td>37719</td>\n",
              "      <td>38597</td>\n",
              "      <td>37854</td>\n",
              "      <td>36968</td>\n",
              "      <td>37882</td>\n",
              "      <td>37732</td>\n",
              "      <td>37904</td>\n",
              "      <td>37641</td>\n",
              "      <td>36679</td>\n",
              "    </tr>\n",
              "    <tr>\n",
              "      <th>2</th>\n",
              "      <td>40</td>\n",
              "      <td>3</td>\n",
              "      <td>6</td>\n",
              "      <td>1</td>\n",
              "      <td>Alabama</td>\n",
              "      <td>0</td>\n",
              "      <td>0</td>\n",
              "      <td>1</td>\n",
              "      <td>2</td>\n",
              "      <td>39738</td>\n",
              "      <td>39738</td>\n",
              "      <td>39570</td>\n",
              "      <td>38202</td>\n",
              "      <td>37653</td>\n",
              "      <td>38528</td>\n",
              "      <td>37769</td>\n",
              "      <td>37123</td>\n",
              "      <td>38048</td>\n",
              "      <td>37975</td>\n",
              "      <td>38172</td>\n",
              "      <td>37904</td>\n",
              "    </tr>\n",
              "    <tr>\n",
              "      <th>3</th>\n",
              "      <td>40</td>\n",
              "      <td>3</td>\n",
              "      <td>6</td>\n",
              "      <td>1</td>\n",
              "      <td>Alabama</td>\n",
              "      <td>0</td>\n",
              "      <td>0</td>\n",
              "      <td>1</td>\n",
              "      <td>3</td>\n",
              "      <td>39827</td>\n",
              "      <td>39828</td>\n",
              "      <td>39805</td>\n",
              "      <td>39690</td>\n",
              "      <td>38113</td>\n",
              "      <td>37716</td>\n",
              "      <td>38605</td>\n",
              "      <td>37896</td>\n",
              "      <td>37266</td>\n",
              "      <td>38170</td>\n",
              "      <td>38197</td>\n",
              "      <td>38510</td>\n",
              "    </tr>\n",
              "    <tr>\n",
              "      <th>4</th>\n",
              "      <td>40</td>\n",
              "      <td>3</td>\n",
              "      <td>6</td>\n",
              "      <td>1</td>\n",
              "      <td>Alabama</td>\n",
              "      <td>0</td>\n",
              "      <td>0</td>\n",
              "      <td>1</td>\n",
              "      <td>4</td>\n",
              "      <td>39353</td>\n",
              "      <td>39353</td>\n",
              "      <td>39493</td>\n",
              "      <td>39872</td>\n",
              "      <td>39628</td>\n",
              "      <td>38122</td>\n",
              "      <td>37751</td>\n",
              "      <td>38625</td>\n",
              "      <td>37954</td>\n",
              "      <td>37322</td>\n",
              "      <td>38312</td>\n",
              "      <td>38476</td>\n",
              "    </tr>\n",
              "  </tbody>\n",
              "</table>\n",
              "</div>"
            ],
            "text/plain": [
              "   SUMLEV  REGION  DIVISION  STATE    state  ...   2015   2016   2017   2018   2019\n",
              "0      40       3         6      1  Alabama  ...  37698  37629  37526  36370  35594\n",
              "1      40       3         6      1  Alabama  ...  37882  37732  37904  37641  36679\n",
              "2      40       3         6      1  Alabama  ...  37123  38048  37975  38172  37904\n",
              "3      40       3         6      1  Alabama  ...  37896  37266  38170  38197  38510\n",
              "4      40       3         6      1  Alabama  ...  38625  37954  37322  38312  38476\n",
              "\n",
              "[5 rows x 21 columns]"
            ]
          },
          "metadata": {
            "tags": []
          },
          "execution_count": 26
        }
      ]
    },
    {
      "cell_type": "code",
      "metadata": {
        "colab": {
          "base_uri": "https://localhost:8080/",
          "height": 204
        },
        "id": "RWq_9SibQNUv",
        "outputId": "acdbd44f-8444-4da4-8937-f5a9e0716eb8"
      },
      "source": [
        "state_map = {\n",
        "    'Alabama': 'AL',\n",
        "    'Alaska': 'AK',\n",
        "    'American Samoa': 'AS',\n",
        "    'Arizona': 'AZ',\n",
        "    'Arkansas': 'AR',\n",
        "    'California': 'CA',\n",
        "    'Colorado': 'CO',\n",
        "    'Connecticut': 'CT',\n",
        "    'Delaware': 'DE',\n",
        "    'District of Columbia': 'DC',\n",
        "    'Florida': 'FL',\n",
        "    'Georgia': 'GA',\n",
        "    'Guam': 'GU',\n",
        "    'Hawaii': 'HI',\n",
        "    'Idaho': 'ID',\n",
        "    'Illinois': 'IL',\n",
        "    'Indiana': 'IN',\n",
        "    'Iowa': 'IA',\n",
        "    'Kansas': 'KS',\n",
        "    'Kentucky': 'KY',\n",
        "    'Louisiana': 'LA',\n",
        "    'Maine': 'ME',\n",
        "    'Maryland': 'MD',\n",
        "    'Massachusetts': 'MA',\n",
        "    'Michigan': 'MI',\n",
        "    'Minnesota': 'MN',\n",
        "    'Mississippi': 'MS',\n",
        "    'Missouri': 'MO',\n",
        "    'Montana': 'MT',\n",
        "    'Nebraska': 'NE',\n",
        "    'Nevada': 'NV',\n",
        "    'New Hampshire': 'NH',\n",
        "    'New Jersey': 'NJ',\n",
        "    'New Mexico': 'NM',\n",
        "    'New York': 'NY',\n",
        "    'North Carolina': 'NC',\n",
        "    'North Dakota': 'ND',\n",
        "    'Northern Mariana Islands':'MP',\n",
        "    'Ohio': 'OH',\n",
        "    'Oklahoma': 'OK',\n",
        "    'Oregon': 'OR',\n",
        "    'Pennsylvania': 'PA',\n",
        "    'Puerto Rico': 'PR',\n",
        "    'Rhode Island': 'RI',\n",
        "    'South Carolina': 'SC',\n",
        "    'South Dakota': 'SD',\n",
        "    'Tennessee': 'TN',\n",
        "    'Texas': 'TX',\n",
        "    'Utah': 'UT',\n",
        "    'Vermont': 'VT',\n",
        "    'Virgin Islands': 'VI',\n",
        "    'Virginia': 'VA',\n",
        "    'Washington': 'WA',\n",
        "    'West Virginia': 'WV',\n",
        "    'Wisconsin': 'WI',\n",
        "    'Wyoming': 'WY'\n",
        "}\n",
        "\n",
        "data_2 = data_1.replace({\"state\": state_map})\n",
        "data_2.head()\n",
        "\n",
        "sex_map = {\n",
        "    0: 'Total',\n",
        "    1: 'M',\n",
        "    2: 'F'\n",
        "}\n",
        "\n",
        "data_3 = data_2.replace({\"sex\": sex_map})\n",
        "data_3.head()\n",
        "\n",
        "\n",
        "race_map = {\n",
        "    1: 'White',\n",
        "    2: 'Black',\n",
        "    3: 'Native American',\n",
        "    4: 'Asian',\n",
        "    5: 'Pacific Islander',\n",
        "    6: 'Two or more'\n",
        "}\n",
        "\n",
        "data_4 = data_3.replace({\"race\": race_map})\n",
        "data_4.head()\n",
        "\n",
        "data_5 = data_4.drop([\"SUMLEV\", \"REGION\", \"DIVISION\", \"STATE\", \"CENSUS2010POP\", \"ESTIMATESBASE2010\"], axis=1)\n",
        "data_5.head()\n",
        "\n",
        "origin_map = {\n",
        "    0: 'Total',\n",
        "    1: 'non_hispanic',\n",
        "    2: 'hispanic'\n",
        "}\n",
        "\n",
        "data_6 = data_5.replace({\"origin\": origin_map})\n",
        "data_6.head()"
      ],
      "execution_count": null,
      "outputs": [
        {
          "output_type": "execute_result",
          "data": {
            "text/html": [
              "<div>\n",
              "<style scoped>\n",
              "    .dataframe tbody tr th:only-of-type {\n",
              "        vertical-align: middle;\n",
              "    }\n",
              "\n",
              "    .dataframe tbody tr th {\n",
              "        vertical-align: top;\n",
              "    }\n",
              "\n",
              "    .dataframe thead th {\n",
              "        text-align: right;\n",
              "    }\n",
              "</style>\n",
              "<table border=\"1\" class=\"dataframe\">\n",
              "  <thead>\n",
              "    <tr style=\"text-align: right;\">\n",
              "      <th></th>\n",
              "      <th>state</th>\n",
              "      <th>sex</th>\n",
              "      <th>origin</th>\n",
              "      <th>race</th>\n",
              "      <th>age</th>\n",
              "      <th>2010</th>\n",
              "      <th>2011</th>\n",
              "      <th>2012</th>\n",
              "      <th>2013</th>\n",
              "      <th>2014</th>\n",
              "      <th>2015</th>\n",
              "      <th>2016</th>\n",
              "      <th>2017</th>\n",
              "      <th>2018</th>\n",
              "      <th>2019</th>\n",
              "    </tr>\n",
              "  </thead>\n",
              "  <tbody>\n",
              "    <tr>\n",
              "      <th>0</th>\n",
              "      <td>AL</td>\n",
              "      <td>Total</td>\n",
              "      <td>Total</td>\n",
              "      <td>White</td>\n",
              "      <td>0</td>\n",
              "      <td>37818</td>\n",
              "      <td>38678</td>\n",
              "      <td>37824</td>\n",
              "      <td>36812</td>\n",
              "      <td>37575</td>\n",
              "      <td>37698</td>\n",
              "      <td>37629</td>\n",
              "      <td>37526</td>\n",
              "      <td>36370</td>\n",
              "      <td>35594</td>\n",
              "    </tr>\n",
              "    <tr>\n",
              "      <th>1</th>\n",
              "      <td>AL</td>\n",
              "      <td>Total</td>\n",
              "      <td>Total</td>\n",
              "      <td>White</td>\n",
              "      <td>1</td>\n",
              "      <td>38036</td>\n",
              "      <td>37719</td>\n",
              "      <td>38597</td>\n",
              "      <td>37854</td>\n",
              "      <td>36968</td>\n",
              "      <td>37882</td>\n",
              "      <td>37732</td>\n",
              "      <td>37904</td>\n",
              "      <td>37641</td>\n",
              "      <td>36679</td>\n",
              "    </tr>\n",
              "    <tr>\n",
              "      <th>2</th>\n",
              "      <td>AL</td>\n",
              "      <td>Total</td>\n",
              "      <td>Total</td>\n",
              "      <td>White</td>\n",
              "      <td>2</td>\n",
              "      <td>39570</td>\n",
              "      <td>38202</td>\n",
              "      <td>37653</td>\n",
              "      <td>38528</td>\n",
              "      <td>37769</td>\n",
              "      <td>37123</td>\n",
              "      <td>38048</td>\n",
              "      <td>37975</td>\n",
              "      <td>38172</td>\n",
              "      <td>37904</td>\n",
              "    </tr>\n",
              "    <tr>\n",
              "      <th>3</th>\n",
              "      <td>AL</td>\n",
              "      <td>Total</td>\n",
              "      <td>Total</td>\n",
              "      <td>White</td>\n",
              "      <td>3</td>\n",
              "      <td>39805</td>\n",
              "      <td>39690</td>\n",
              "      <td>38113</td>\n",
              "      <td>37716</td>\n",
              "      <td>38605</td>\n",
              "      <td>37896</td>\n",
              "      <td>37266</td>\n",
              "      <td>38170</td>\n",
              "      <td>38197</td>\n",
              "      <td>38510</td>\n",
              "    </tr>\n",
              "    <tr>\n",
              "      <th>4</th>\n",
              "      <td>AL</td>\n",
              "      <td>Total</td>\n",
              "      <td>Total</td>\n",
              "      <td>White</td>\n",
              "      <td>4</td>\n",
              "      <td>39493</td>\n",
              "      <td>39872</td>\n",
              "      <td>39628</td>\n",
              "      <td>38122</td>\n",
              "      <td>37751</td>\n",
              "      <td>38625</td>\n",
              "      <td>37954</td>\n",
              "      <td>37322</td>\n",
              "      <td>38312</td>\n",
              "      <td>38476</td>\n",
              "    </tr>\n",
              "  </tbody>\n",
              "</table>\n",
              "</div>"
            ],
            "text/plain": [
              "  state    sex origin   race  age  ...   2015   2016   2017   2018   2019\n",
              "0    AL  Total  Total  White    0  ...  37698  37629  37526  36370  35594\n",
              "1    AL  Total  Total  White    1  ...  37882  37732  37904  37641  36679\n",
              "2    AL  Total  Total  White    2  ...  37123  38048  37975  38172  37904\n",
              "3    AL  Total  Total  White    3  ...  37896  37266  38170  38197  38510\n",
              "4    AL  Total  Total  White    4  ...  38625  37954  37322  38312  38476\n",
              "\n",
              "[5 rows x 15 columns]"
            ]
          },
          "metadata": {
            "tags": []
          },
          "execution_count": 27
        }
      ]
    },
    {
      "cell_type": "code",
      "metadata": {
        "colab": {
          "base_uri": "https://localhost:8080/"
        },
        "id": "CtFApoLLX9he",
        "outputId": "35449d41-192c-44ce-a7ca-a6567191829b"
      },
      "source": [
        "grouped = data_6.groupby([\"origin\", \"state\", \"sex\", \"race\", \"age\"]) \n",
        "# Step 2: Count rows in each group\n",
        "counts = grouped.size()\n",
        "\n",
        "# Note, since we are using Victim's name in the primary key, we should remove all cases where name is \"Name withheld by police\"\n",
        "print(counts[counts > 1])"
      ],
      "execution_count": null,
      "outputs": [
        {
          "output_type": "stream",
          "text": [
            "Series([], dtype: int64)\n"
          ],
          "name": "stdout"
        }
      ]
    },
    {
      "cell_type": "code",
      "metadata": {
        "colab": {
          "base_uri": "https://localhost:8080/",
          "height": 17
        },
        "id": "9ZXK8LVOSZax",
        "outputId": "5c9a1405-cc49-4f23-f456-e5687690c8b5"
      },
      "source": [
        "data_6.to_csv(\"dem.csv\", index=False, sep=\";\")\n",
        "from google.colab import files\n",
        "files.download('dem.csv')"
      ],
      "execution_count": null,
      "outputs": [
        {
          "output_type": "display_data",
          "data": {
            "application/javascript": [
              "\n",
              "    async function download(id, filename, size) {\n",
              "      if (!google.colab.kernel.accessAllowed) {\n",
              "        return;\n",
              "      }\n",
              "      const div = document.createElement('div');\n",
              "      const label = document.createElement('label');\n",
              "      label.textContent = `Downloading \"${filename}\": `;\n",
              "      div.appendChild(label);\n",
              "      const progress = document.createElement('progress');\n",
              "      progress.max = size;\n",
              "      div.appendChild(progress);\n",
              "      document.body.appendChild(div);\n",
              "\n",
              "      const buffers = [];\n",
              "      let downloaded = 0;\n",
              "\n",
              "      const channel = await google.colab.kernel.comms.open(id);\n",
              "      // Send a message to notify the kernel that we're ready.\n",
              "      channel.send({})\n",
              "\n",
              "      for await (const message of channel.messages) {\n",
              "        // Send a message to notify the kernel that we're ready.\n",
              "        channel.send({})\n",
              "        if (message.buffers) {\n",
              "          for (const buffer of message.buffers) {\n",
              "            buffers.push(buffer);\n",
              "            downloaded += buffer.byteLength;\n",
              "            progress.value = downloaded;\n",
              "          }\n",
              "        }\n",
              "      }\n",
              "      const blob = new Blob(buffers, {type: 'application/binary'});\n",
              "      const a = document.createElement('a');\n",
              "      a.href = window.URL.createObjectURL(blob);\n",
              "      a.download = filename;\n",
              "      div.appendChild(a);\n",
              "      a.click();\n",
              "      div.remove();\n",
              "    }\n",
              "  "
            ],
            "text/plain": [
              "<IPython.core.display.Javascript object>"
            ]
          },
          "metadata": {
            "tags": []
          }
        },
        {
          "output_type": "display_data",
          "data": {
            "application/javascript": [
              "download(\"download_74ccb2e9-b964-4afb-b067-2488bbfb2937\", \"dem.csv\", 16214184)"
            ],
            "text/plain": [
              "<IPython.core.display.Javascript object>"
            ]
          },
          "metadata": {
            "tags": []
          }
        }
      ]
    }
  ]
}